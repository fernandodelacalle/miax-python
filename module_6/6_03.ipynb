{
 "cells": [
  {
   "cell_type": "code",
   "execution_count": null,
   "metadata": {},
   "outputs": [],
   "source": [
    "import numpy as np\n",
    "import pandas as pd\n",
    "import matplotlib.pyplot as plt\n",
    "import requests"
   ]
  },
  {
   "cell_type": "markdown",
   "metadata": {},
   "source": [
    "# 6.3. Optimización de carteras"
   ]
  },
  {
   "cell_type": "markdown",
   "metadata": {},
   "source": [
    "- Descarga los datos del último año de los siguientes activos usando IEX ('AAPL', 'FB', 'JPM', 'BRK.B', 'GOOG'). Denominamos $n$ como el número de activos elegidos.\n",
    "- Crea un dataframe solo con los datos de cierre, tendrá dimensiones $m \\times n$ con $m$ el número de días y $n$ en número de activos.\n",
    "- Calcula un portfolio aleatorio:\n",
    "   - Genera uno vector de pesos $\\mathbf{w}$ aleatorios de dimensiones $n \\times 1$, donde $n$ es el número de activos. Los pesos tienen que cumplir que  $w_i \\ge 0, \\; i = 1,\\dots, n$ y $\\sum_{i=1}^{n} w_i = 1$ dado que solo permitimos estar en largo.\n",
    "   - Calcula el retorno y la desviacion típica del portfolio:\n",
    "       - $R_p = \\mathbf{w^T \\mu}$ donde $\\mathbf{\\mu}$ es un vector con la media de los retornos diarios de los activos, con dimensiones $n \\times 1$.\n",
    "       - $\\sigma_p = \\sqrt{\\mathbf{w}^T\\Sigma \\mathbf{w}}$, donde $\\Sigma$ es la matriz de covarianzas de los retornos, con dimensiones $n \\times n$\n",
    "- Realiza una simulación de montecarlo para ello:\n",
    "   - Repite el procceso anterior $k$ veces por ejemplo 10000, guardando los pesos $\\mathbf{w}$, $R_p$ y $\\sigma_p$ de cada experimento.\n",
    "   - Realiza una figura con todos los puntos.\n",
    "   - Selecciona el punto de máximo ratio sharpe:\n",
    "     - Calcula el ratio sharpe para cada uno de los porfolios generados. El ratio sharpe se calcula como:\n",
    "     \\begin{equation*}\n",
    "     S_p = \\frac{R_p - R_f}{\\sigma_p}\n",
    "     \\end{equation*}\n",
    "     asumimos que $R_f$, el retorno del activo sin riesgo, es 0. \n",
    "     - Obtén el porfolio con el $S_p$ mayor.\n",
    "     - Pinta este punto en la figura y obtén los pesos.\n",
    "      \n",
    "<center>\n",
    "<img src=\"imgs/harry.jpeg\"  alt=\"drawing\" width=\"300\"/>\n",
    "<br />    Harry Markowitz, Novel 1990\n",
    "</center>\n",
    "\n",
    "  \n",
    "   "
   ]
  },
  {
   "cell_type": "markdown",
   "metadata": {},
   "source": [
    "### Descarga de datos"
   ]
  },
  {
   "cell_type": "markdown",
   "metadata": {},
   "source": [
    "- Descarga los datos de cierre, del último año, de los siguientes tickers: 'AAPL', 'FB', 'JPM', 'BRK.B', 'GOOG'"
   ]
  },
  {
   "cell_type": "code",
   "execution_count": null,
   "metadata": {},
   "outputs": [],
   "source": []
  },
  {
   "cell_type": "markdown",
   "metadata": {},
   "source": [
    "- Unimos los datos de cierre de los 5 activos en un único DataFrame"
   ]
  },
  {
   "cell_type": "code",
   "execution_count": null,
   "metadata": {},
   "outputs": [],
   "source": []
  },
  {
   "cell_type": "markdown",
   "metadata": {},
   "source": [
    "- Graficalo, para ver qué pinta tiene la evolución de las acciones. Tienes que hacer es dividir cada acción por la 1ª cotización (para que todas empiecen en el mismo punto)."
   ]
  },
  {
   "cell_type": "code",
   "execution_count": null,
   "metadata": {},
   "outputs": [],
   "source": []
  },
  {
   "cell_type": "markdown",
   "metadata": {},
   "source": [
    "### Random porfolio"
   ]
  },
  {
   "cell_type": "markdown",
   "metadata": {},
   "source": [
    "- Vamos a generar 10.000 vectores de pesos aleatorios w, que sumen 1.\n",
    "- Para cada vector de pesos, vamos a calcular la rentabilidad de la cartera y el riesgo de la cartera\n",
    "    - La rentabilidad de la cartera se calcula multiplicando, matricialmente, el vector de media de los retornos * el vector de pesos\n",
    "    - El riesgo de la cartera se calcula como la raiz cuadrada de: la multiplicación matricial del vector de pesos por la matriz de covarianzas, multiplicada de nuevo por el vector de pesos (matricialmente)."
   ]
  },
  {
   "cell_type": "code",
   "execution_count": null,
   "metadata": {},
   "outputs": [],
   "source": []
  },
  {
   "cell_type": "markdown",
   "metadata": {},
   "source": [
    "Dibujamos todas las carteras que hemos generado. \n",
    "\n",
    "- Eje X: Riesgo\n",
    "- Eje y: Rentabilidad"
   ]
  },
  {
   "cell_type": "code",
   "execution_count": null,
   "metadata": {},
   "outputs": [],
   "source": []
  },
  {
   "cell_type": "markdown",
   "metadata": {},
   "source": [
    "#### Max sharpe ratio portfolio"
   ]
  },
  {
   "cell_type": "markdown",
   "metadata": {},
   "source": [
    "- Calculamos la eficiencia de la cartera a través del ratio de Sharpe: rentabilidad / riesgo\n",
    "- Calculamos el ratio de Sharpe para cada cartera.\n",
    "- La cartera que tenga mayor ratio de Sharpe, será la más eficiente."
   ]
  },
  {
   "cell_type": "code",
   "execution_count": null,
   "metadata": {},
   "outputs": [],
   "source": []
  },
  {
   "cell_type": "markdown",
   "metadata": {},
   "source": [
    "- Recuperamos la información la cartera óptima encontrada: rentabilidad, riesgo y pesos"
   ]
  },
  {
   "cell_type": "code",
   "execution_count": null,
   "metadata": {},
   "outputs": [],
   "source": []
  },
  {
   "cell_type": "markdown",
   "metadata": {},
   "source": [
    "#### Plot max sharpe ratio portfolio"
   ]
  },
  {
   "cell_type": "markdown",
   "metadata": {},
   "source": [
    "Dibulamos todas las carteras, y marcamos la cartera óptima encontrada"
   ]
  },
  {
   "cell_type": "code",
   "execution_count": null,
   "metadata": {},
   "outputs": [],
   "source": []
  },
  {
   "cell_type": "markdown",
   "metadata": {
    "tags": []
   },
   "source": [
    "## Math opt con cvxpy\n",
    "\n",
    "El problema de la frontera eficiente se puede tratar como un problema de optimización cuadrática.\n",
    "\n",
    "La frontera eficiente se puede encontrar solucionando el siguiente problema:\n",
    "\n",
    "\\begin{equation*}\n",
    "\\begin{aligned}\n",
    "& \\underset{}{\\text{maximize}}\n",
    "& &  \\mathbf{w^T \\mu} - \\gamma \\mathbf{w}^T\\Sigma \\mathbf{w}\\\\\n",
    "& \\text{subject to}\n",
    "& & w_i \\ge 0, \\; i = 1,\\dots, n \\\\\n",
    "&&& \\sum_{i=1}^{n} w_i = 1\n",
    "\\end{aligned}\n",
    "\\end{equation*}\n",
    "\n",
    "Donde $\\mathbf{w}$ es el vector de pesos a optimizar, $\\mathbf{w^T \\mu}$ es el retorno del portfolio, $\\mathbf{w}^T\\Sigma \\mathbf{w}$ es la varianza del portfolio y $\\gamma$ es un parámetro de adversión al riesgo.\n",
    "\n",
    "Variando $\\gamma$ obtenemos los diferentes puntos de la frontera. \n",
    "- Si $\\gamma=0$ maximizamos solo el retono \n",
    "- Si  $\\gamma \\rightarrow \\infty$ obtenemos el portfolio de mínimo riesgo. \n",
    "\n",
    "Variando  $\\gamma$  obtenemos el *risk-return trade-off* óptimo.\n",
    "\n",
    "Puedes encontrar más información en: https://en.wikipedia.org/wiki/Modern_portfolio_theory"
   ]
  },
  {
   "cell_type": "markdown",
   "metadata": {},
   "source": [
    "Para ejecutar el siguiente código necesitas installar cvxpy: ```pip install cvxpy```"
   ]
  },
  {
   "cell_type": "code",
   "execution_count": null,
   "metadata": {},
   "outputs": [],
   "source": [
    "import cvxpy as cp"
   ]
  },
  {
   "cell_type": "code",
   "execution_count": null,
   "metadata": {},
   "outputs": [],
   "source": [
    "def optimal_portfolio(returns, n_samples=1000, gamma_low=-1, gamma_high=10):\n",
    "    sigma = returns.cov().values\n",
    "    mu = np.mean(returns, axis=0).values  \n",
    "    n = sigma.shape[0]        \n",
    "    w = cp.Variable(n)\n",
    "    gamma = cp.Parameter(nonneg=True)\n",
    "    ret = mu.T*w\n",
    "    risk = cp.quad_form(w, sigma)\n",
    "    \n",
    "    prob = cp.Problem(cp.Maximize(ret - gamma*risk), \n",
    "                      [cp.sum(w) == 1,  w >= 0]) \n",
    "    \n",
    "    risk_data = np.zeros(n_samples)\n",
    "    ret_data = np.zeros(n_samples)\n",
    "    gamma_vals = np.logspace(gamma_low, gamma_high, num=n_samples)\n",
    "    \n",
    "    portfolio_weights = []    \n",
    "    for i in range(n_samples):\n",
    "        gamma.value = gamma_vals[i]\n",
    "        prob.solve()\n",
    "        risk_data[i] = np.sqrt(risk.value)\n",
    "        ret_data[i] = ret.value\n",
    "        portfolio_weights.append(w.value)   \n",
    "    return ret_data, risk_data, gamma_vals, portfolio_weights"
   ]
  },
  {
   "cell_type": "code",
   "execution_count": null,
   "metadata": {},
   "outputs": [],
   "source": [
    "ret_data, risk_data, gamma_vals, portfolio_weights = optimal_portfolio(returns)"
   ]
  },
  {
   "cell_type": "code",
   "execution_count": null,
   "metadata": {},
   "outputs": [],
   "source": [
    "fig, ax = plt.subplots(figsize=(10, 7))\n",
    "plt.plot(list_std_p, list_r_p, '.')\n",
    "ax.plot(risk_data, ret_data, 'y')\n",
    "ax.plot(std_m_sr, r_m_sr, '*', markersize=15)\n",
    "_ = ax.set_xlabel('std')\n",
    "_ = ax.set_ylabel('mean')"
   ]
  },
  {
   "cell_type": "markdown",
   "metadata": {},
   "source": [
    "# Conclusiones\n",
    "- ¿Os dáis cuenta de que la frontera está muy por encima de las simulaciones que hemos realizado?, ¿sabríais decirme el motivo?\n",
    "- Estamos trabajando con una foto: ¿Qué significa esta frase?\n",
    "- La optimización de Markowitz tiene diversas críticas. ¿Sabríais decirme alguna?"
   ]
  }
 ],
 "metadata": {
  "kernelspec": {
   "display_name": "Python 3 (ipykernel)",
   "language": "python",
   "name": "python3"
  },
  "language_info": {
   "codemirror_mode": {
    "name": "ipython",
    "version": 3
   },
   "file_extension": ".py",
   "mimetype": "text/x-python",
   "name": "python",
   "nbconvert_exporter": "python",
   "pygments_lexer": "ipython3",
   "version": "3.10.10"
  }
 },
 "nbformat": 4,
 "nbformat_minor": 4
}
