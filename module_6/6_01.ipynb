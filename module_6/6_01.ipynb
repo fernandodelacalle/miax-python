{
 "cells": [
  {
   "cell_type": "markdown",
   "metadata": {
    "tags": []
   },
   "source": [
    "# 6.1. Obtención de datos financieros"
   ]
  },
  {
   "cell_type": "code",
   "execution_count": 2,
   "metadata": {},
   "outputs": [],
   "source": [
    "import pandas as pd\n",
    "import requests"
   ]
  },
  {
   "cell_type": "markdown",
   "metadata": {},
   "source": [
    "1. Regístrate en iexcloud: https://iexcloud.io/\n",
    "2. Genera un token para poder realizar las peticiones al API.\n",
    "3. Explora la documentación del API en: https://iexcloud.io/docs/api/#historical-prices\n",
    "\n",
    "4. Prueba en el navegador las siguientes direcciones (cambiado donde pone PON_TU_TOKEN por el token del apartado 2):\n",
    "    - Bolsas disponibles: https://cloud.iexapis.com/stable/ref-data/exchanges?token=PON_TU_TOKEN\n",
    "    - Activos de una Bolsa de Madrid: https://cloud.iexapis.com/stable/ref-data/exchange/XMAD/symbols?token=PON_TU_TOKEN\n",
    "    - Precios de MSFT del último año: https://cloud.iexapis.com/stable/stock/msft/chart/1y?token=PON_TU_TOKEN\n",
    "    - Precios de SANSN del último año: https://cloud.iexapis.com/stable/stock/SAN-SN/chart/1y?token=PON_TU_TOKEN\n",
    "\n",
    "5. Ahora pide lo mismo desde python usando la libreria requests de la siguiente forma:\n",
    "\n",
    "```python\n",
    "import requests\n",
    "import pandas as pd\n",
    "\n",
    "url = f'https://cloud.iexapis.com/stable/------rellena lo que quieras pedir ----'\n",
    "r = requests.get(url, params={'token': TU_TOKEN})\n",
    "df = pd.DataFrame(r.json())\n",
    "```\n",
    "\n",
    "6. Crea una función que retorne el open, high, low, close y volumen diario del último año, dado un ticker. Consulta la sección y ejemplos de historical prices: https://iexcloud.io/docs/api/#historical-prices. Pruebalo con el ticker NVDA.\n",
    "\n",
    "7. Modifica la función anterior para que solamente pida el precio de cierre.\n",
    "\n",
    "10. Pinta las figuras de velas correspondiente al último ejercicio."
   ]
  },
  {
   "cell_type": "code",
   "execution_count": null,
   "metadata": {},
   "outputs": [],
   "source": []
  },
  {
   "cell_type": "markdown",
   "metadata": {
    "tags": []
   },
   "source": [
    "## Otras Fuentes de Información"
   ]
  },
  {
   "cell_type": "markdown",
   "metadata": {},
   "source": [
    "### Investpy"
   ]
  },
  {
   "cell_type": "markdown",
   "metadata": {},
   "source": [
    "Para descargar datos de Investing\n",
    "\n",
    "investpy: https://investpy.readthedocs.io/\n",
    "\n",
    "<center>\n",
    "<img src=\"./imgs/investing.png\"  alt=\"drawing\" width=\"1000\"/>\n",
    "</center>\n",
    "\n",
    "Ojo. Lo que está haciendo esta librería es un webscraping. Por lo que si cambia la web, la fiabilidad de los datos sería muy cuestionable."
   ]
  },
  {
   "cell_type": "markdown",
   "metadata": {},
   "source": [
    "### Pandas Data Reader"
   ]
  },
  {
   "cell_type": "markdown",
   "metadata": {},
   "source": [
    "Pandas tiene una librería para descargar datos de multitud de fuentes\n",
    "\n",
    "pandas-datareader: https://pandas-datareader.readthedocs.io\n",
    "\n",
    "<center>\n",
    "<img src=\"./imgs/pandas_datareader.png\"  alt=\"drawing\" width=\"1000\"/>\n",
    "</center>\n",
    "\n",
    "Esta librería nos permite conectarnos con multitud de fuentes de datos: IEX, Alpha Vantage, Quandl...\n",
    "\n",
    "<center>\n",
    "<img src=\"./imgs/fuentes_pandas.png\"  alt=\"drawing\" width=\"1000\"/>\n",
    "</center>\n",
    "\n",
    "Por ejemplo, para conectarnos a IEX desde Pandas Data Reader\n",
    "\n",
    "<center>\n",
    "<img src=\"./imgs/iex_pandas.png\"  alt=\"drawing\" width=\"1000\"/>\n",
    "</center>"
   ]
  }
 ],
 "metadata": {
  "kernelspec": {
   "display_name": "Python 3 (ipykernel)",
   "language": "python",
   "name": "python3"
  },
  "language_info": {
   "codemirror_mode": {
    "name": "ipython",
    "version": 3
   },
   "file_extension": ".py",
   "mimetype": "text/x-python",
   "name": "python",
   "nbconvert_exporter": "python",
   "pygments_lexer": "ipython3",
   "version": "3.10.10"
  }
 },
 "nbformat": 4,
 "nbformat_minor": 4
}
