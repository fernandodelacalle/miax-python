{
 "cells": [
  {
   "cell_type": "markdown",
   "metadata": {
    "tags": []
   },
   "source": [
    "# 6.2. Simulación para medición de riesgos (VaR)."
   ]
  },
  {
   "cell_type": "markdown",
   "metadata": {},
   "source": [
    " - Value at Risk (VaR): es una estadística que cuantifica el límite de las posibles pérdidas dentro de una cartera, o activo, durante un período de tiempo específico y a un nivel de probabilidad dado.  \n",
    " - Expected Shortfall: Media de los retornos que están por debajo del VaR.\n",
    "\n",
    "<center>\n",
    "<img src=\"imgs/var_es.png\"  alt=\"drawing\" width=\"500\"/>\n",
    "</center>\n",
    "\n",
    "- Objetivos: \n",
    "    - Utilizando la serie de precios del SP500 de los últimos 5 años (ticker SPY en IEX), calcula:\n",
    "    - Un gráfico con el drawdown.\n",
    "    - Pinta la distibución de los retornos usando la función distplot, de seaborn.\n",
    "    - Value at Risk (VaR) historico con un nivel de cofianza del 0.05 (usa la función quantile sobre los retornos).\n",
    "    - Expected Shortfall (ES): media de los retornos que están por debajo del VaR."
   ]
  },
  {
   "cell_type": "markdown",
   "metadata": {},
   "source": [
    "### Obtenemos los datos de SPY de IEX"
   ]
  },
  {
   "cell_type": "code",
   "execution_count": null,
   "metadata": {},
   "outputs": [],
   "source": [
    "import numpy as np\n",
    "import pandas as pd\n",
    "import matplotlib.pyplot as plt\n",
    "import requests"
   ]
  },
  {
   "cell_type": "code",
   "execution_count": null,
   "metadata": {},
   "outputs": [],
   "source": [
    "TOKEN = 'TU_TOKEN'\n",
    "base_url = 'https://cloud.iexapis.com/stable' "
   ]
  },
  {
   "cell_type": "code",
   "execution_count": null,
   "metadata": {},
   "outputs": [],
   "source": [
    "def get_data_iex(symbol, st_range='1y'):\n",
    "    \n",
    "    url = f\"{base_url}/stock/{symbol}/chart/{st_range}\"\n",
    "    r = requests.get(url, params={'token': TOKEN})\n",
    "    data = pd.DataFrame(r.json())\n",
    "    data = data.set_index('date')\n",
    "    data.name = symbol\n",
    "    return data"
   ]
  },
  {
   "cell_type": "code",
   "execution_count": null,
   "metadata": {},
   "outputs": [],
   "source": [
    "data_day = get_data_iex('SPY', st_range='5y')"
   ]
  },
  {
   "cell_type": "code",
   "execution_count": null,
   "metadata": {},
   "outputs": [],
   "source": [
    "close_spy = data_day.close\n",
    "close_spy.head()"
   ]
  },
  {
   "cell_type": "code",
   "execution_count": null,
   "metadata": {},
   "outputs": [],
   "source": [
    "close_spy.plot()"
   ]
  },
  {
   "cell_type": "markdown",
   "metadata": {},
   "source": [
    "### Calculamos y graficamos el Drawdown"
   ]
  },
  {
   "cell_type": "code",
   "execution_count": null,
   "metadata": {},
   "outputs": [],
   "source": [
    "close_spy.plot()\n",
    "close_spy.expanding().max().plot()"
   ]
  },
  {
   "cell_type": "code",
   "execution_count": null,
   "metadata": {},
   "outputs": [],
   "source": [
    "draw_down = (close_spy/close_spy.expanding().max()) - 1"
   ]
  },
  {
   "cell_type": "code",
   "execution_count": null,
   "metadata": {},
   "outputs": [],
   "source": [
    "draw_down.plot()"
   ]
  },
  {
   "cell_type": "markdown",
   "metadata": {},
   "source": [
    "### Calculamos y pintamos la distribución de los retornos"
   ]
  },
  {
   "cell_type": "code",
   "execution_count": null,
   "metadata": {},
   "outputs": [],
   "source": [
    "import seaborn as sns"
   ]
  },
  {
   "cell_type": "code",
   "execution_count": null,
   "metadata": {},
   "outputs": [],
   "source": [
    "retornos = np.log(close_spy).diff().dropna()"
   ]
  },
  {
   "cell_type": "code",
   "execution_count": null,
   "metadata": {},
   "outputs": [],
   "source": [
    "sns.displot(retornos, rug=True)"
   ]
  },
  {
   "cell_type": "markdown",
   "metadata": {},
   "source": [
    "### Value at Risk (VaR, método histórico) and Expected Shortfall (ES)"
   ]
  },
  {
   "cell_type": "markdown",
   "metadata": {},
   "source": [
    "El VaR es el valor límite de pérdida, sobre una probabilidad y un horizonte.\n",
    "\n",
    "Por ejemplo, un VaR al 95% significa que un 5% de los retornos están por debajo de ese valor límite (del VaR).\n",
    "\n",
    "El VaR NO es una pérdida máxima. Es un umbral, en función de una probabilidad y un horizonte temporal.\n",
    "\n",
    "Expected Shortfall (ES): media de los retornos que están por debajo del VaR."
   ]
  },
  {
   "cell_type": "code",
   "execution_count": null,
   "metadata": {},
   "outputs": [],
   "source": [
    "var = retornos.quantile(q=0.05)\n",
    "shortfall = retornos[retornos < var].mean()"
   ]
  },
  {
   "cell_type": "code",
   "execution_count": null,
   "metadata": {},
   "outputs": [],
   "source": [
    "fig, ax = plt.subplots(figsize=(10, 7))\n",
    "sns.histplot(retornos, ax=ax)\n",
    "sns.rugplot(retornos, ax=ax)\n",
    "ax.axvline(var, color='r')\n",
    "ax.axvline(shortfall, color='k')"
   ]
  }
 ],
 "metadata": {
  "kernelspec": {
   "display_name": "Python 3 (ipykernel)",
   "language": "python",
   "name": "python3"
  },
  "language_info": {
   "codemirror_mode": {
    "name": "ipython",
    "version": 3
   },
   "file_extension": ".py",
   "mimetype": "text/x-python",
   "name": "python",
   "nbconvert_exporter": "python",
   "pygments_lexer": "ipython3",
   "version": "3.10.10"
  }
 },
 "nbformat": 4,
 "nbformat_minor": 4
}
