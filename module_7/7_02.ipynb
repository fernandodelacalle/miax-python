{
 "cells": [
  {
   "cell_type": "markdown",
   "metadata": {},
   "source": [
    "# 7.2. Introducción a la programación orientada a objetos."
   ]
  },
  {
   "cell_type": "markdown",
   "metadata": {},
   "source": [
    "## Clases"
   ]
  },
  {
   "cell_type": "markdown",
   "metadata": {},
   "source": [
    "- En Python TODO es un objeto. Las variables, listas, diccionarios... todo son objetos.\n",
    "- Un objeto es una instancia de una clase\n",
    "- Una clase es un conjunto de métodos y de atributos, que definen a los objetos que pertenecen a una clase en concreto. \n",
    "- La principal utilidad es que cada objeto de una clase tiene su propio estado: tiene información específica y puede estar en situaciones diferentes. Ej: coche encendido.\n",
    "- Un clase se define como:"
   ]
  },
  {
   "cell_type": "markdown",
   "metadata": {},
   "source": [
    "```python\n",
    "class class_name:\n",
    "    methods (functions)```\n"
   ]
  },
  {
   "cell_type": "markdown",
   "metadata": {},
   "source": [
    "Los nombres de las clases deben ir con la 1ª letra en mayúsculas"
   ]
  },
  {
   "cell_type": "code",
   "execution_count": null,
   "metadata": {
    "tags": []
   },
   "outputs": [],
   "source": [
    "class Coche:\n",
    "    \"This is an empty class\"\n",
    "    pass"
   ]
  },
  {
   "cell_type": "markdown",
   "metadata": {},
   "source": [
    "- **pass** en python significa no hacer nada. \n",
    "- El String define la documentación, accesible desde `help(FirstClass)`."
   ]
  },
  {
   "cell_type": "markdown",
   "metadata": {},
   "source": [
    "- A continuación, instanciamos un objeto de clase **\"Coche\"**: emp, que tendrá todas las funcionalidades de la clase \"Coche\", por lo que coche_javi será una instancia de la clase Coche:"
   ]
  },
  {
   "cell_type": "code",
   "execution_count": null,
   "metadata": {
    "collapsed": false,
    "jupyter": {
     "outputs_hidden": false
    }
   },
   "outputs": [],
   "source": [
    "coche_javi = Coche()"
   ]
  },
  {
   "cell_type": "markdown",
   "metadata": {},
   "source": [
    "- \"coche_javi\" es una instancia de \"Coche\".\n",
    "- Podemos ver su tipo:"
   ]
  },
  {
   "cell_type": "code",
   "execution_count": null,
   "metadata": {
    "collapsed": false,
    "jupyter": {
     "outputs_hidden": false
    }
   },
   "outputs": [],
   "source": [
    "type(coche_javi)"
   ]
  },
  {
   "cell_type": "markdown",
   "metadata": {},
   "source": [
    "### Constructores\n",
    "\n",
    "Las clases disponen de una función llamada **\"\\_\\_init\\_\\_\"**. Con este método, se inicializan variables de clase o cualquier código inicial que queramos que sea aplicable a todos los métodos. A las variables dentro de una clase se las llama atributos, como en otros lenguajes POO."
   ]
  },
  {
   "cell_type": "markdown",
   "metadata": {},
   "source": [
    "Estos métodos, ayudan en el proceso de inicialización de la instancia. Así, si no tuviéramos estos **constructores**, habría que llamar a un método aparte que inicializara todo."
   ]
  },
  {
   "cell_type": "markdown",
   "metadata": {},
   "source": [
    "Sin embargo, cuando se ha definido un constructor, **\\_\\_init\\_\\_** se le llamará al inicializar la instancia creada. "
   ]
  },
  {
   "cell_type": "code",
   "execution_count": null,
   "metadata": {},
   "outputs": [],
   "source": [
    "class Coche:\n",
    "    def __init__(self, matricula): #constructor de la clase donde la matrícula es un parámetro obligatorio\n",
    "        self.matricula = matricula"
   ]
  },
  {
   "cell_type": "markdown",
   "metadata": {},
   "source": [
    "- En Python es obligatorio que el primer parámetro de un método de clase sea **self**.\n",
    "- **Self** hace referencia a todo lo que contiene una clase. Pero siempre desde el punto de vista de una instancia. Es decir, representa al propio objeto con el que estamos trabajando. Por ejemplo se usa self para dar valor a los atributos de la clase\n",
    "- En este caso el atributo sería la matrícula. Otros ejemplos de atributos podrían ser los caballos, la marca del coche... lo que fuera. Un atributo es una variable del objeto perteneciente a una clase."
   ]
  },
  {
   "cell_type": "markdown",
   "metadata": {},
   "source": [
    "### Instancia de una clase\n",
    "\n",
    "- Una instancia se podría decir que es la generación de un objeto que pertenece a una clase\n",
    "- Para crear una instancia, basta con llamar al constructor. \n",
    "- En este caso, creamos dos instancias de la clase coche:"
   ]
  },
  {
   "cell_type": "code",
   "execution_count": null,
   "metadata": {},
   "outputs": [],
   "source": [
    "coche_javi = Coche(matricula='1234ABC')\n",
    "coche_fer = Coche(matricula='1234ZZZ')"
   ]
  },
  {
   "cell_type": "code",
   "execution_count": null,
   "metadata": {},
   "outputs": [],
   "source": [
    "print(coche_javi.matricula)\n",
    "print(coche_fer.matricula)"
   ]
  },
  {
   "cell_type": "markdown",
   "metadata": {},
   "source": [
    "- Pulsando el tabulador sobre el nombre de la instancia, después del punto, podemos saber que atributos tenemos disponibles.\n",
    "- En este caso, como solo tenemos matrícula, no tiene mucho sentido."
   ]
  },
  {
   "cell_type": "code",
   "execution_count": null,
   "metadata": {},
   "outputs": [],
   "source": [
    "coche_fer."
   ]
  },
  {
   "cell_type": "markdown",
   "metadata": {},
   "source": [
    "- Los objetos podrían almacenar otros atributos no definidos en el constructor.\n",
    "- Se recomienda no hacerlo\n",
    "- Por ejemplo:"
   ]
  },
  {
   "cell_type": "code",
   "execution_count": null,
   "metadata": {},
   "outputs": [],
   "source": [
    "coche_javi.color = 'azul'"
   ]
  },
  {
   "cell_type": "code",
   "execution_count": null,
   "metadata": {},
   "outputs": [],
   "source": [
    "coche_javi.color"
   ]
  },
  {
   "cell_type": "code",
   "execution_count": null,
   "metadata": {},
   "outputs": [],
   "source": [
    "coche_fer.color # Da error, al no estar definido"
   ]
  },
  {
   "cell_type": "markdown",
   "metadata": {},
   "source": [
    "### Métodos"
   ]
  },
  {
   "cell_type": "markdown",
   "metadata": {},
   "source": [
    "- Podemos definir otros métodos no constructores a Coche que realicen otro tipo de operaciones.\n",
    "- El self como primer parámetro del método nos permite acceder a los atributos y cambiar su valor.\n",
    "- Ejemplos de métodos en un coche podrían ser: arrancar, parar"
   ]
  },
  {
   "cell_type": "code",
   "execution_count": null,
   "metadata": {},
   "outputs": [],
   "source": [
    "class Coche:\n",
    "\n",
    "    def __init__(self, matricula):\n",
    "        self.matricula = matricula\n",
    "        self.ruedas = 4\n",
    "        self.estado = False\n",
    "    \n",
    "    def arrancar(self):\n",
    "        if self.estado == False:\n",
    "            print('Brummmm')\n",
    "            self.estado = True\n",
    "        else:\n",
    "            print('ya estoy')\n",
    "    \n",
    "    def apagar(self):\n",
    "        self.estado = False\n"
   ]
  },
  {
   "cell_type": "code",
   "execution_count": null,
   "metadata": {},
   "outputs": [],
   "source": [
    "coche_javi = Coche('1234ABC')\n",
    "coche_fer = Coche('1234ZZZ')"
   ]
  },
  {
   "cell_type": "code",
   "execution_count": null,
   "metadata": {},
   "outputs": [],
   "source": [
    "coche_javi.estado"
   ]
  },
  {
   "cell_type": "code",
   "execution_count": null,
   "metadata": {},
   "outputs": [],
   "source": [
    "coche_javi.arrancar()"
   ]
  },
  {
   "cell_type": "code",
   "execution_count": null,
   "metadata": {},
   "outputs": [],
   "source": [
    "coche_javi.estado"
   ]
  },
  {
   "cell_type": "code",
   "execution_count": null,
   "metadata": {},
   "outputs": [],
   "source": [
    "coche_fer.estado"
   ]
  },
  {
   "cell_type": "code",
   "execution_count": null,
   "metadata": {},
   "outputs": [],
   "source": [
    "coche_fer.apagar()"
   ]
  },
  {
   "cell_type": "markdown",
   "metadata": {},
   "source": [
    "Fijémonos que cada coche tiene unos valores de atributos distintos y pueden estar en estados distintos. Para esto sirven las clases."
   ]
  },
  {
   "cell_type": "markdown",
   "metadata": {
    "tags": []
   },
   "source": [
    "### Método __str__ y __repr__"
   ]
  },
  {
   "cell_type": "markdown",
   "metadata": {},
   "source": [
    "El método str permite devolver la información que hemos almacenado en esa función."
   ]
  },
  {
   "cell_type": "code",
   "execution_count": null,
   "metadata": {},
   "outputs": [],
   "source": [
    "class Coche(Vehiculo):\n",
    "    def __init__(self, matricula):\n",
    "        super().__init__(matricula)\n",
    "    \n",
    "    def __str__(self):\n",
    "        return f'Soy un coche con {self.matricula}'"
   ]
  },
  {
   "cell_type": "code",
   "execution_count": null,
   "metadata": {},
   "outputs": [],
   "source": [
    "coche_javi = Coche('1234ABC')"
   ]
  },
  {
   "cell_type": "code",
   "execution_count": null,
   "metadata": {},
   "outputs": [],
   "source": [
    "str(coche_javi)"
   ]
  },
  {
   "cell_type": "markdown",
   "metadata": {},
   "source": [
    "Si ejecuto coche_javi, la información que nos devuelve no es muy útil."
   ]
  },
  {
   "cell_type": "code",
   "execution_count": null,
   "metadata": {},
   "outputs": [],
   "source": [
    "coche_javi"
   ]
  },
  {
   "cell_type": "markdown",
   "metadata": {},
   "source": [
    "El método repr permite devolver una información determinada, cuando ejecutamos diréctamente un objeto"
   ]
  },
  {
   "cell_type": "code",
   "execution_count": null,
   "metadata": {},
   "outputs": [],
   "source": [
    "class Coche(Vehiculo): \n",
    "    def __init__(self, matricula):\n",
    "        super().__init__(matricula)\n",
    "    \n",
    "    def __str__(self):\n",
    "        return f'Soy un coche con matricula: {self.matricula}'\n",
    "    \n",
    "    def __repr__(self):\n",
    "        return f'Soy un coche con matricula: {self.matricula}'"
   ]
  },
  {
   "cell_type": "code",
   "execution_count": null,
   "metadata": {},
   "outputs": [],
   "source": [
    "coche_javi = Coche('1234ABC')"
   ]
  },
  {
   "cell_type": "code",
   "execution_count": null,
   "metadata": {},
   "outputs": [],
   "source": [
    "coche_javi"
   ]
  },
  {
   "cell_type": "markdown",
   "metadata": {
    "tags": []
   },
   "source": [
    "# Ejercicios\n",
    "**7.3.1** Crea una clase persona que tenga los atributos: nombre, apellidos, DNI."
   ]
  },
  {
   "cell_type": "code",
   "execution_count": null,
   "metadata": {},
   "outputs": [],
   "source": []
  },
  {
   "cell_type": "markdown",
   "metadata": {},
   "source": [
    "**7.3.2** Crea una lista con objetos de la clase persona."
   ]
  },
  {
   "cell_type": "code",
   "execution_count": null,
   "metadata": {},
   "outputs": [],
   "source": []
  },
  {
   "cell_type": "markdown",
   "metadata": {},
   "source": [
    "**7.3.3** Añade  los métodos __repr__ y __str___."
   ]
  },
  {
   "cell_type": "code",
   "execution_count": null,
   "metadata": {},
   "outputs": [],
   "source": []
  },
  {
   "cell_type": "markdown",
   "metadata": {},
   "source": [
    "**7.3.4** Recorre la lista mostrando los objetos por pantalla."
   ]
  },
  {
   "cell_type": "code",
   "execution_count": null,
   "metadata": {},
   "outputs": [],
   "source": []
  }
 ],
 "metadata": {
  "kernelspec": {
   "display_name": "Python 3 (ipykernel)",
   "language": "python",
   "name": "python3"
  },
  "language_info": {
   "codemirror_mode": {
    "name": "ipython",
    "version": 3
   },
   "file_extension": ".py",
   "mimetype": "text/x-python",
   "name": "python",
   "nbconvert_exporter": "python",
   "pygments_lexer": "ipython3",
   "version": "3.10.10"
  }
 },
 "nbformat": 4,
 "nbformat_minor": 4
}
